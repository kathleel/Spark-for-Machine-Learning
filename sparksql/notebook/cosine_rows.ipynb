{
 "cells": [
  {
   "cell_type": "code",
   "execution_count": 43,
   "metadata": {},
   "outputs": [
    {
     "name": "stdout",
     "output_type": "stream",
     "text": [
      "+---+---+---+---+---+---+\n",
      "| id| f1| f2| f3| f4| f5|\n",
      "+---+---+---+---+---+---+\n",
      "|  a|  1|  2|  3|  4| -5|\n",
      "|  b|  1|  2|  3|  4| -5|\n",
      "+---+---+---+---+---+---+\n",
      "\n"
     ]
    }
   ],
   "source": [
    "# This is an exmaple how to use spark sql for computing cosine similarity distance with transpose between two rows\n",
    "df=spark.read.format(\"csv\").option(\"header\",\"true\").option(\"inferSchema\",\"true\").load(\"/Users/kaicat/2.csv\")\n",
    "df.show()\n",
    "\n"
   ]
  },
  {
   "cell_type": "code",
   "execution_count": 44,
   "metadata": {},
   "outputs": [],
   "source": [
    "from pyspark.ml.feature import VectorAssembler"
   ]
  },
  {
   "cell_type": "code",
   "execution_count": 45,
   "metadata": {},
   "outputs": [],
   "source": [
    "featureCols =list(set(df.columns)-{'id'})\n",
    "\n",
    "assembler = VectorAssembler().setInputCols(featureCols).setOutputCol(\"features\")\n",
    "df2 = assembler.transform(df)"
   ]
  },
  {
   "cell_type": "code",
   "execution_count": 46,
   "metadata": {},
   "outputs": [
    {
     "name": "stdout",
     "output_type": "stream",
     "text": [
      "+---+---+---+---+---+---+--------------------+\n",
      "| id| f1| f2| f3| f4| f5|            features|\n",
      "+---+---+---+---+---+---+--------------------+\n",
      "|  a|  1|  2|  3|  4| -5|[2.0,3.0,1.0,4.0,...|\n",
      "|  b|  1|  2|  3|  4| -5|[2.0,3.0,1.0,4.0,...|\n",
      "+---+---+---+---+---+---+--------------------+\n",
      "\n",
      "+--------------------+\n",
      "|            features|\n",
      "+--------------------+\n",
      "|[2.0,3.0,1.0,4.0,...|\n",
      "|[2.0,3.0,1.0,4.0,...|\n",
      "+--------------------+\n",
      "\n"
     ]
    }
   ],
   "source": [
    "\n",
    "df2.show()\n",
    "df3=df2.select(\"features\")\n",
    "df3.show()"
   ]
  },
  {
   "cell_type": "code",
   "execution_count": 47,
   "metadata": {},
   "outputs": [
    {
     "name": "stdout",
     "output_type": "stream",
     "text": [
      "+--------------------+\n",
      "|            features|\n",
      "+--------------------+\n",
      "|[2.0,3.0,1.0,4.0,...|\n",
      "|[2.0,3.0,1.0,4.0,...|\n",
      "+--------------------+\n",
      "\n"
     ]
    }
   ],
   "source": [
    "from pyspark.mllib.util import *\n",
    "df4=MLUtils.convertVectorColumnsFromML(df3,\"features\")\n",
    "df4.show()"
   ]
  },
  {
   "cell_type": "code",
   "execution_count": 48,
   "metadata": {},
   "outputs": [],
   "source": [
    "from pyspark.ml.linalg import *\n",
    "from pyspark.mllib.linalg.distributed import *\n",
    "rdd1 =df4.select(\"features\").rdd.map(lambda row: row[0] )\n",
    "# m=RowMatrix(df3.rdd.map(lambda x: x[0])).toBlockMatrix().transpose().toIndexedRowMatrix()"
   ]
  },
  {
   "cell_type": "code",
   "execution_count": 49,
   "metadata": {},
   "outputs": [
    {
     "data": {
      "text/plain": [
       "[MatrixEntry(0, 1, 1.0)]"
      ]
     },
     "execution_count": 49,
     "metadata": {},
     "output_type": "execute_result"
    }
   ],
   "source": [
    "from pyspark.mllib.linalg.distributed import RowMatrix,CoordinateMatrix,MatrixEntry\n",
    "\n",
    "mat= RowMatrix(rdd1)\n",
    "cm=CoordinateMatrix(mat.rows.zipWithIndex().flatMap(lambda x:[MatrixEntry(x[1],j,v) for j,v in enumerate(x[0])]))\n",
    "mat1=cm.transpose().toRowMatrix()\n",
    "\n",
    "exact=mat1.columnSimilarities()\n",
    "exact.entries.collect()"
   ]
  },
  {
   "cell_type": "code",
   "execution_count": null,
   "metadata": {},
   "outputs": [],
   "source": []
  },
  {
   "cell_type": "code",
   "execution_count": null,
   "metadata": {},
   "outputs": [],
   "source": []
  }
 ],
 "metadata": {
  "kernelspec": {
   "display_name": "Python 3",
   "language": "python",
   "name": "python3"
  },
  "language_info": {
   "codemirror_mode": {
    "name": "ipython",
    "version": 3
   },
   "file_extension": ".py",
   "mimetype": "text/x-python",
   "name": "python",
   "nbconvert_exporter": "python",
   "pygments_lexer": "ipython3",
   "version": "3.6.4"
  }
 },
 "nbformat": 4,
 "nbformat_minor": 2
}
