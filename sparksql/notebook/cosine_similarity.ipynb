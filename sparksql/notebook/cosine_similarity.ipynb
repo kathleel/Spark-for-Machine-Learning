{
 "cells": [
  {
   "cell_type": "code",
   "execution_count": 1,
   "metadata": {},
   "outputs": [],
   "source": [
    "# This is an exmaple how to use spark sql for computing cosine similarity distance\n",
    "df=spark.read.format(\"csv\").option(\"header\",\"true\").option(\"inferSchema\",\"true\").load(\"/Users/kaicat/2.csv\")"
   ]
  },
  {
   "cell_type": "code",
   "execution_count": 2,
   "metadata": {},
   "outputs": [
    {
     "name": "stdout",
     "output_type": "stream",
     "text": [
      "root\n",
      " |-- id: string (nullable = true)\n",
      " |-- f1: integer (nullable = true)\n",
      " |-- f2: integer (nullable = true)\n",
      " |-- f3: integer (nullable = true)\n",
      " |-- f4: integer (nullable = true)\n",
      " |-- f5: integer (nullable = true)\n",
      "\n"
     ]
    }
   ],
   "source": [
    "df.printSchema()"
   ]
  },
  {
   "cell_type": "code",
   "execution_count": 3,
   "metadata": {},
   "outputs": [],
   "source": [
    "from pyspark.ml.feature import VectorAssembler"
   ]
  },
  {
   "cell_type": "code",
   "execution_count": 4,
   "metadata": {},
   "outputs": [],
   "source": [
    "\n",
    "featureCols =list(set(df.columns)-{'id'})\n",
    "\n",
    "assembler = VectorAssembler().setInputCols(featureCols).setOutputCol(\"features\")\n",
    "df2 = assembler.transform(df)"
   ]
  },
  {
   "cell_type": "code",
   "execution_count": 5,
   "metadata": {},
   "outputs": [
    {
     "name": "stdout",
     "output_type": "stream",
     "text": [
      "+---+---+---+---+---+---+--------------------+\n",
      "| id| f1| f2| f3| f4| f5|            features|\n",
      "+---+---+---+---+---+---+--------------------+\n",
      "|  a|  1|  2|  3|  4|  5|[2.0,3.0,1.0,4.0,...|\n",
      "|  b|  1|  2|  3|  4|  5|[2.0,3.0,1.0,4.0,...|\n",
      "+---+---+---+---+---+---+--------------------+\n",
      "\n",
      "+--------------------+\n",
      "|            features|\n",
      "+--------------------+\n",
      "|[2.0,3.0,1.0,4.0,...|\n",
      "|[2.0,3.0,1.0,4.0,...|\n",
      "+--------------------+\n",
      "\n"
     ]
    }
   ],
   "source": [
    "df2.show()\n",
    "\n",
    "df3=df2.select(\"features\")\n",
    "df3.show()\n",
    "\n"
   ]
  },
  {
   "cell_type": "code",
   "execution_count": 6,
   "metadata": {},
   "outputs": [],
   "source": [
    "from pyspark.mllib.util import *\n",
    "df4=MLUtils.convertVectorColumnsFromML(df3,\"features\")"
   ]
  },
  {
   "cell_type": "code",
   "execution_count": 7,
   "metadata": {},
   "outputs": [],
   "source": [
    "from pyspark.ml.linalg import *\n",
    "\n",
    "rdd1 =df4.select(\"features\").rdd.map(lambda row: row[0] )"
   ]
  },
  {
   "cell_type": "code",
   "execution_count": 8,
   "metadata": {},
   "outputs": [
    {
     "name": "stdout",
     "output_type": "stream",
     "text": [
      "<pyspark.mllib.linalg.distributed.RowMatrix object at 0x107b56fd0>\n"
     ]
    },
    {
     "data": {
      "text/plain": [
       "[MatrixEntry(1, 4, 1.0),\n",
       " MatrixEntry(2, 3, 0.9999999999999998),\n",
       " MatrixEntry(2, 4, 0.9999999999999998),\n",
       " MatrixEntry(0, 1, 1.0),\n",
       " MatrixEntry(1, 2, 1.0),\n",
       " MatrixEntry(3, 4, 0.9999999999999998),\n",
       " MatrixEntry(0, 3, 0.9999999999999998),\n",
       " MatrixEntry(0, 4, 0.9999999999999998),\n",
       " MatrixEntry(1, 3, 1.0),\n",
       " MatrixEntry(0, 2, 0.9999999999999998)]"
      ]
     },
     "execution_count": 8,
     "metadata": {},
     "output_type": "execute_result"
    }
   ],
   "source": [
    "from pyspark.mllib.linalg.distributed import RowMatrix\n",
    "mat= RowMatrix(rdd1)\n",
    "print(mat)\n",
    "exact=mat.columnSimilarities()\n",
    "exact.entries.collect()"
   ]
  },
  {
   "cell_type": "code",
   "execution_count": null,
   "metadata": {},
   "outputs": [],
   "source": []
  }
 ],
 "metadata": {
  "kernelspec": {
   "display_name": "Python 3",
   "language": "python",
   "name": "python3"
  },
  "language_info": {
   "codemirror_mode": {
    "name": "ipython",
    "version": 3
   },
   "file_extension": ".py",
   "mimetype": "text/x-python",
   "name": "python",
   "nbconvert_exporter": "python",
   "pygments_lexer": "ipython3",
   "version": "3.6.4"
  }
 },
 "nbformat": 4,
 "nbformat_minor": 2
}
